{
 "cells": [
  {
   "cell_type": "markdown",
   "metadata": {},
   "source": [
    "# Introduction to Python \n",
    "# Homework #5\n",
    "- Due May 2 at 6:00 pm\n",
    "- This homework will be graded\n",
    "- You MUST submit on CourseWorks2 before it closes\n",
    "    - Verify your submission succeeded\n",
    "    - Email submissions are not accepted \n",
    "    "
   ]
  },
  {
   "cell_type": "markdown",
   "metadata": {},
   "source": [
    "# Academic Honesty\n",
    "* The computer science department has strict polices. Check\n",
    "the department [web page](http://www.cs.columbia.edu/education/honesty) for details. \n",
    "- Do not look at anybody else's source code. Do not show anybody\n",
    "your source, or leave your source where somebody could see it.\n",
    "You MUST write your own code.\n",
    "- For this class, feel free to discuss issues with other people, but suggest waiting an hour or two after a discussion, before writing your code.\n",
    "-  Cases of non original source will be refered to the Judical Committee.\n"
   ]
  },
  {
   "cell_type": "markdown",
   "metadata": {},
   "source": [
    "# Problem 1\n",
    "- write a simple printf function\n",
    "- first arg is the control string, rest of args are\n",
    "values to insert into the control string, and some keyword args\n",
    "- several conversion directives:\n",
    "    - '{}' - call 'str' to get print string for the object\n",
    "    - '{b}' - convert an int into binary\n",
    "    - '{h}' - convert an int into hex\n",
    "    - '{o}' - convert an int into octal\n",
    "- keyword args:\n",
    "    - case='lower' - lower case the computed string\n",
    "    - case='upper' - upper case the computed string\n",
    "    - reverse=True - reverse the characters in the computed string\n",
    "- raise a ValueError if the number conversion directives in the \n",
    "control string don't match the number of supplied args\n",
    "- you can't use the 'format' method!"
   ]
  },
  {
   "cell_type": "code",
   "execution_count": 137,
   "metadata": {},
   "outputs": [],
   "source": [
    "def printf(cstr, list_values, case = 'lower', reverse = 'True'):  \n",
    "    print(cstr)\n",
    "    print(list_values)\n",
    "    \n",
    "    list_cstrs = []\n",
    "    prev = ''\n",
    "    for s in cstr:  \n",
    "        if prev == '{':\n",
    "            if s == '}':           \n",
    "                list_cstrs.append('')  \n",
    "            else:\n",
    "                list_cstrs.append(s)\n",
    "        prev = s\n",
    "    \n",
    "    len_c = len(list_cstrs)\n",
    "    len_v = len(list_values)\n",
    "    \n",
    "    if len_c != len_v:\n",
    "        raise ValueError('Thecontrols and values are of unequal length: %s ! = %s' %(len_c, len_v))\n",
    "    \n",
    "    for i in range(len_v):\n",
    "        c = list_cstrs[i]\n",
    "        v = list_values[i]\n",
    "        if c == '':    \n",
    "            print(v)  \n",
    "        elif c == 'b':        \n",
    "            print('binary: ' + bin(v))\n",
    "        elif c == 'o':        \n",
    "            print('octal: ' + oct(v))\n",
    "        elif c == 'h':\n",
    "            print('hex: ' + hex(v))"
   ]
  },
  {
   "cell_type": "code",
   "execution_count": 141,
   "metadata": {},
   "outputs": [
    {
     "name": "stdout",
     "output_type": "stream",
     "text": [
      "{}{b}{h}{b}\n",
      "[1, 1, 3, 4]\n",
      "1\n",
      "binary: 0b1\n",
      "hex: 0x3\n",
      "binary: 0b100\n"
     ]
    }
   ],
   "source": [
    "cstr = '{}{b}{h}{b}'\n",
    "list_values = [1,1,3,4]\n",
    "\n",
    "printf(cstr, list_values)"
   ]
  },
  {
   "cell_type": "markdown",
   "metadata": {},
   "source": [
    "# Problem 2 \n",
    "# write generalized dot product(dotn)\n",
    "- take the dot product of any number of lists, tuples and finite generators\n",
    "    - assume all inputs have the same length\n",
    "- hints\n",
    "    - use the variable number of arguments format for 'dotn'\n",
    "    - you don't have to use it, but [zip](https://docs.python.org/3/library/functions.html#zip) is your friend\n"
   ]
  },
  {
   "cell_type": "code",
   "execution_count": 142,
   "metadata": {},
   "outputs": [
    {
     "data": {
      "text/plain": [
       "[(13, 14), generator]"
      ]
     },
     "execution_count": 142,
     "metadata": {},
     "output_type": "execute_result"
    }
   ],
   "source": [
    "# test generator\n",
    "\n",
    "def gen(s, e):\n",
    "    for j in range(s, e):\n",
    "        yield j\n",
    "\n",
    "[tuple(gen(13,15)), type(gen(3,6))]"
   ]
  },
  {
   "cell_type": "code",
   "execution_count": 143,
   "metadata": {},
   "outputs": [
    {
     "data": {
      "text/plain": [
       "True"
      ]
     },
     "execution_count": 143,
     "metadata": {},
     "output_type": "execute_result"
    }
   ],
   "source": [
    "# if you want to detect that something is a generator, you have to do this:\n",
    "\n",
    "import types\n",
    "\n",
    "isinstance(gen(4,5), types.GeneratorType)"
   ]
  },
  {
   "cell_type": "code",
   "execution_count": 144,
   "metadata": {},
   "outputs": [
    {
     "name": "stdout",
     "output_type": "stream",
     "text": [
      "[(1, 1)]\n",
      "[(1, 1, 3), (2, 2, 2)]\n"
     ]
    }
   ],
   "source": [
    "# variable number of arguments format\n",
    "def test(*pos):\n",
    "    print([x for x in (zip(*pos))])\n",
    "    \n",
    "test([1], [1,2])\n",
    "test([1,2,3], [1,2], [3,2])"
   ]
  },
  {
   "cell_type": "code",
   "execution_count": 145,
   "metadata": {},
   "outputs": [],
   "source": [
    "def product(lists):\n",
    "    res = 1\n",
    "    for a in lists:\n",
    "        res *= a\n",
    "    return res\n",
    "\n",
    "def dotn(*pos):\n",
    "    return sum([product(x) for x in (zip(*pos))])\n",
    "    "
   ]
  },
  {
   "cell_type": "code",
   "execution_count": 146,
   "metadata": {},
   "outputs": [
    {
     "data": {
      "text/plain": [
       "191"
      ]
     },
     "execution_count": 146,
     "metadata": {},
     "output_type": "execute_result"
    }
   ],
   "source": [
    "dotn([5,3,9], gen(10,13))"
   ]
  },
  {
   "cell_type": "code",
   "execution_count": 147,
   "metadata": {},
   "outputs": [
    {
     "data": {
      "text/plain": [
       "191"
      ]
     },
     "execution_count": 147,
     "metadata": {},
     "output_type": "execute_result"
    }
   ],
   "source": [
    "# above is\n",
    "\n",
    "5 * 10 + 3 * 11 + 9 * 12"
   ]
  },
  {
   "cell_type": "code",
   "execution_count": 148,
   "metadata": {},
   "outputs": [
    {
     "data": {
      "text/plain": [
       "83"
      ]
     },
     "execution_count": 148,
     "metadata": {},
     "output_type": "execute_result"
    }
   ],
   "source": [
    "dotn(gen(10,12),[5,3,9])"
   ]
  },
  {
   "cell_type": "code",
   "execution_count": 149,
   "metadata": {},
   "outputs": [
    {
     "data": {
      "text/plain": [
       "83"
      ]
     },
     "execution_count": 149,
     "metadata": {},
     "output_type": "execute_result"
    }
   ],
   "source": [
    "# above is\n",
    "\n",
    "5 * 10 + 3 * 11 "
   ]
  },
  {
   "cell_type": "code",
   "execution_count": 150,
   "metadata": {},
   "outputs": [
    {
     "data": {
      "text/plain": [
       "686"
      ]
     },
     "execution_count": 150,
     "metadata": {},
     "output_type": "execute_result"
    }
   ],
   "source": [
    "dotn( (1,2,3), [4,5,6], gen(20,23))"
   ]
  },
  {
   "cell_type": "code",
   "execution_count": 151,
   "metadata": {},
   "outputs": [
    {
     "data": {
      "text/plain": [
       "686"
      ]
     },
     "execution_count": 151,
     "metadata": {},
     "output_type": "execute_result"
    }
   ],
   "source": [
    "# above is\n",
    "\n",
    "1*4*20 + 2*5*21 + 3*6*22"
   ]
  },
  {
   "cell_type": "markdown",
   "metadata": {},
   "source": [
    "# Problem 2 & 3 - vending machine\n",
    "- use objects to simulate a vending machine\n",
    "- money is in units of cents\n",
    "- remember\n",
    "    - 'self' must be the first arg to every object method\n",
    "    - use the 'self.' prefix to refer to object attributes or other methods inside a method "
   ]
  },
  {
   "cell_type": "markdown",
   "metadata": {},
   "source": [
    "# class venditem represents a type of item for sale\n",
    "- has three object attributes\n",
    "    - name, price, quantity\n",
    "- define four methods\n",
    "    - `method __init__` loads data into the object attributes\n",
    "        - def `__init__`(self, name, price, quantity):\n",
    "    - `method __str__`(self)\n",
    "        - controls how venditem prints\n",
    "        - use string format method\n",
    "            - '{} {}'.format(arg, arg2)\n",
    "        - see examples below\n",
    "    - `method __repr__`(self)\n",
    "        - just call `__str__` for string to return\n",
    "    - method sale(self)\n",
    "        - decrement the quantity(number of items left in the machine to sell)"
   ]
  },
  {
   "cell_type": "code",
   "execution_count": 152,
   "metadata": {},
   "outputs": [],
   "source": [
    "class venditem:\n",
    "    def __init__(self, name, price, quantity):\n",
    "        self.name = name\n",
    "        self.price = price\n",
    "        self.quantity = quantity\n",
    "        \n",
    "    def __str__(self):\n",
    "        return 'venditem(name=\\'{}\\', price={}, quantity={})'.format(self.name, self.price,self.quantity)\n",
    "        \n",
    "    def __repr__(self):\n",
    "        return self.__str__()\n",
    "    \n",
    "    def sale(self):\n",
    "        self.quantity -= 1\n",
    "        "
   ]
  },
  {
   "cell_type": "code",
   "execution_count": 153,
   "metadata": {},
   "outputs": [
    {
     "data": {
      "text/plain": [
       "[venditem(name='coke', price=95, quantity=3),\n",
       " venditem(name='pepsi', price=110, quantity=1)]"
      ]
     },
     "execution_count": 153,
     "metadata": {},
     "output_type": "execute_result"
    }
   ],
   "source": [
    "# make some items\n",
    "\n",
    "vi = venditem('coke', 95, 3)\n",
    "vi2 = venditem('pepsi', 110, 1)\n",
    "\n",
    "[vi, vi2]"
   ]
  },
  {
   "cell_type": "code",
   "execution_count": 154,
   "metadata": {},
   "outputs": [
    {
     "data": {
      "text/plain": [
       "venditem(name='coke', price=95, quantity=2)"
      ]
     },
     "execution_count": 154,
     "metadata": {},
     "output_type": "execute_result"
    }
   ],
   "source": [
    "# sale method decrements quantity \n",
    "# instance variable\n",
    "\n",
    "vi.sale()\n",
    "vi"
   ]
  },
  {
   "cell_type": "code",
   "execution_count": 155,
   "metadata": {},
   "outputs": [
    {
     "data": {
      "text/plain": [
       "['coke', 'pepsi', 95, 2, 1]"
      ]
     },
     "execution_count": 155,
     "metadata": {},
     "output_type": "execute_result"
    }
   ],
   "source": [
    "# note you can access instance variables directly:\n",
    "\n",
    "[vi.name, vi2.name, vi.price, vi.quantity, vi2.quantity]"
   ]
  },
  {
   "cell_type": "code",
   "execution_count": 156,
   "metadata": {},
   "outputs": [
    {
     "data": {
      "text/plain": [
       "2"
      ]
     },
     "execution_count": 156,
     "metadata": {},
     "output_type": "execute_result"
    }
   ],
   "source": [
    "# can set same way\n",
    "\n",
    "vi.quantity = 2\n",
    "vi.quantity"
   ]
  },
  {
   "cell_type": "markdown",
   "metadata": {},
   "source": [
    "# class vendmachine \n",
    "- vendmachine has two object attributes\n",
    "    - 'cash' - the amount of money the machine has collected from item sales\n",
    "    - 'items' - a dictionary, where the keys are item names, and the values are the venditem object\n",
    "- define three methods\n",
    "    - `__init__`(self, stock)\n",
    "        - stock arg is a list of venditems, which represents what is loaded in the machine\n",
    "        - items dictionary should be constructed from stock arg\n",
    "        - cash should be initialized to 0\n",
    "    - buy(self, name, money) \n",
    "        - 'name' is 'coke', 'pepsi', etc\n",
    "        - money is how much money the customer deposited for the purchase\n",
    "        - four cases\n",
    "            - customer asks for an item not carried\n",
    "            - customer asks for an item whose quantity is 0 - out of stock\n",
    "            - customer doesn't put in enough money for the item\n",
    "            - everything ok, sell the item, decrement item quantity\n",
    "        - 'buy' return value should refund any money owed the customer \n",
    "            - money not applied to an item sale\n",
    "            - excess money deposited for an item sale\n",
    "            - NOT asking you to do this, but note the previously developed  'Changer' class could be used in the vending machine\n",
    "        - log each buy case, using 'log' function below\n",
    "        - see examples below\n",
    "    - status(self)\n",
    "        - prints the amount of cash collected, and each of the items in stock\n",
    "    "
   ]
  },
  {
   "cell_type": "code",
   "execution_count": 157,
   "metadata": {},
   "outputs": [],
   "source": [
    "# could log to a file by doing file append\n",
    "# with open(logpath, 'a') as fd\n",
    "#    write(msg + '\\n')\n",
    "\n",
    "import time\n",
    "    \n",
    "def log(msg, name):\n",
    "    t = time.strftime('%X %x %Z - ')\n",
    "    msg = t + msg + ': ' + name\n",
    "    print(msg)\n"
   ]
  },
  {
   "cell_type": "code",
   "execution_count": 158,
   "metadata": {},
   "outputs": [],
   "source": [
    "class vendmachine:\n",
    "    def __init__(self, stock):\n",
    "        self.items = {}\n",
    "        for s in stock:\n",
    "            self.items[s.name] = s\n",
    "        self.cash = 0\n",
    "        \n",
    "    def buy(self, name, money):\n",
    "        if name not in self.items:\n",
    "            msg = \"Not Carried\"\n",
    "            difference = money\n",
    "        elif self.items[name].quantity == 0:\n",
    "            msg = \"Out of Stock\"\n",
    "            difference = money\n",
    "        elif self.items[name].price > money:\n",
    "            msg = \"Insufficient Funds for\"\n",
    "            difference = money\n",
    "        else:\n",
    "            self.items[name].sale()\n",
    "            difference = money - self.items[name].price\n",
    "            self.cash += self.items[name].price\n",
    "            msg = \"Sold\"\n",
    "        log(msg,name)\n",
    "        return difference \n",
    "            \n",
    "    def status(self):\n",
    "        print('Cash Collected: {}'.format(self.cash))\n",
    "        for i in self.items:\n",
    "            print(self.items[i])"
   ]
  },
  {
   "cell_type": "code",
   "execution_count": 159,
   "metadata": {},
   "outputs": [
    {
     "name": "stdout",
     "output_type": "stream",
     "text": [
      "Cash Collected: 0\n",
      "venditem(name='coke', price=95, quantity=3)\n",
      "venditem(name='pepsi', price=110, quantity=1)\n",
      "venditem(name='peanut M&Ms', price=100, quantity=2)\n"
     ]
    }
   ],
   "source": [
    "# make stock for sale and load vendmachine\n",
    "\n",
    "vi = venditem('coke', 95, 3)\n",
    "vi2 = venditem('pepsi', 110, 1)\n",
    "vi3 = venditem('peanut M&Ms', 100, 2)\n",
    "stock = [vi, vi2, vi3]\n",
    "\n",
    "vm = vendmachine(stock)\n",
    "vm.status()"
   ]
  },
  {
   "cell_type": "code",
   "execution_count": 160,
   "metadata": {},
   "outputs": [
    {
     "name": "stdout",
     "output_type": "stream",
     "text": [
      "23:30:14 05/01/18 EDT - Insufficient Funds for: coke\n"
     ]
    },
    {
     "data": {
      "text/plain": [
       "45"
      ]
     },
     "execution_count": 160,
     "metadata": {},
     "output_type": "execute_result"
    }
   ],
   "source": [
    "# no sale, refund money\n",
    "\n",
    "vm.buy('coke', 45)"
   ]
  },
  {
   "cell_type": "code",
   "execution_count": 161,
   "metadata": {},
   "outputs": [
    {
     "name": "stdout",
     "output_type": "stream",
     "text": [
      "23:30:15 05/01/18 EDT - Sold: pepsi\n"
     ]
    },
    {
     "data": {
      "text/plain": [
       "90"
      ]
     },
     "execution_count": 161,
     "metadata": {},
     "output_type": "execute_result"
    }
   ],
   "source": [
    "# made sale, return change\n",
    "\n",
    "vm.buy('pepsi', 200)"
   ]
  },
  {
   "cell_type": "code",
   "execution_count": 162,
   "metadata": {},
   "outputs": [
    {
     "name": "stdout",
     "output_type": "stream",
     "text": [
      "Cash Collected: 110\n",
      "venditem(name='coke', price=95, quantity=3)\n",
      "venditem(name='pepsi', price=110, quantity=0)\n",
      "venditem(name='peanut M&Ms', price=100, quantity=2)\n"
     ]
    }
   ],
   "source": [
    "vm.status()"
   ]
  },
  {
   "cell_type": "code",
   "execution_count": 163,
   "metadata": {},
   "outputs": [
    {
     "name": "stdout",
     "output_type": "stream",
     "text": [
      "23:30:16 05/01/18 EDT - Out of Stock: pepsi\n"
     ]
    },
    {
     "data": {
      "text/plain": [
       "200"
      ]
     },
     "execution_count": 163,
     "metadata": {},
     "output_type": "execute_result"
    }
   ],
   "source": [
    "# out of stock, refund money\n",
    "\n",
    "vm.buy('pepsi', 200)"
   ]
  },
  {
   "cell_type": "code",
   "execution_count": 164,
   "metadata": {},
   "outputs": [
    {
     "name": "stdout",
     "output_type": "stream",
     "text": [
      "23:30:16 05/01/18 EDT - Not Carried: mtndew\n"
     ]
    },
    {
     "data": {
      "text/plain": [
       "200"
      ]
     },
     "execution_count": 164,
     "metadata": {},
     "output_type": "execute_result"
    }
   ],
   "source": [
    "# don't carry it, refund money\n",
    "\n",
    "vm.buy('mtndew', 200)"
   ]
  },
  {
   "cell_type": "code",
   "execution_count": 165,
   "metadata": {},
   "outputs": [
    {
     "name": "stdout",
     "output_type": "stream",
     "text": [
      "23:30:17 05/01/18 EDT - Sold: coke\n"
     ]
    },
    {
     "data": {
      "text/plain": [
       "5"
      ]
     },
     "execution_count": 165,
     "metadata": {},
     "output_type": "execute_result"
    }
   ],
   "source": [
    "# sale, return change\n",
    "\n",
    "vm.buy('coke', 100)"
   ]
  },
  {
   "cell_type": "code",
   "execution_count": 166,
   "metadata": {},
   "outputs": [
    {
     "name": "stdout",
     "output_type": "stream",
     "text": [
      "Cash Collected: 205\n",
      "venditem(name='coke', price=95, quantity=2)\n",
      "venditem(name='pepsi', price=110, quantity=0)\n",
      "venditem(name='peanut M&Ms', price=100, quantity=2)\n"
     ]
    }
   ],
   "source": [
    "# sold 1 coke and 1 pepsi\n",
    "\n",
    "vm.status()"
   ]
  }
 ],
 "metadata": {
  "kernelspec": {
   "display_name": "Python 3",
   "language": "python",
   "name": "python3"
  },
  "language_info": {
   "codemirror_mode": {
    "name": "ipython",
    "version": 3
   },
   "file_extension": ".py",
   "mimetype": "text/x-python",
   "name": "python",
   "nbconvert_exporter": "python",
   "pygments_lexer": "ipython3",
   "version": "3.6.4"
  }
 },
 "nbformat": 4,
 "nbformat_minor": 2
}
